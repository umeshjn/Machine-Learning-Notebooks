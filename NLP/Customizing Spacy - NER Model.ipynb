{
 "cells": [
  {
   "cell_type": "markdown",
   "metadata": {},
   "source": [
    "### What is NER?\n",
    "\n",
    "Named entity recognition (NER) is a sub-task of information extraction (IE) that seeks out and categorizes specified entities in a body or bodies of texts. NER is also known simply as entity identification, entity chunking and entity extraction. NER is used in many fields in artificial intelligence (AI) including natural language processing (NLP) and machine learning.\n",
    "\n",
    "### What is Spacy?\n",
    "\n",
    "spaCy is a free, open-source library for advanced Natural Language Processing (NLP) in Python.\n",
    "\n",
    "### What are named entities?\n",
    "\n",
    "A named entity is a “real-world object” that’s assigned a name – for example, a person, a country, a product or a book title. spaCy can recognize various types of named entities in a document, by asking the model for a prediction. Because models are statistical and strongly depend on the examples they were trained on, this doesn’t always work perfectly and might need some tuning later, depending on your use case."
   ]
  },
  {
   "cell_type": "markdown",
   "metadata": {},
   "source": [
    "### What entities are predicted by the spacy models?\n",
    "\n",
    "\n",
    "| TYPE\t| DESCRIPTION |\n",
    "| ----- | ----------- |\n",
    "|PERSON\t|People, including fictional.\n",
    "|NORP\t|Nationalities or religious or political groups.\n",
    "|FAC\t|Buildings, airports, highways, bridges, etc.\n",
    "|ORG\t|Companies, agencies, institutions, etc.\n",
    "|GPE\t|Countries, cities, states.\n",
    "|LOC\t|Non-GPE locations, mountain ranges, bodies of water.\n",
    "|PRODUCT|Objects, vehicles, foods, etc. (Not services.)\n",
    "|EVENT\t|Named hurricanes, battles, wars, sports events, etc.\n",
    "|WORK_OF_ART|Titles of books, songs, etc.\n",
    "|LAW\t|Named documents made into laws.\n",
    "|LANGUAGE|Any named language.\n",
    "|DATE\t|Absolute or relative dates or periods.\n",
    "|TIME\t|Times smaller than a day.\n",
    "|PERCENT|Percentage, including ”%“.\n",
    "|MONEY\t|Monetary values, including unit.\n",
    "|QUANTITY|Measurements, as of weight or distance.\n",
    "|ORDINAL|“first”, “second”, etc.\n",
    "|CARDINAL|Numerals that do not fall under another type."
   ]
  },
  {
   "cell_type": "markdown",
   "metadata": {},
   "source": [
    "### Quick example of the Spacy Entity Recognition"
   ]
  },
  {
   "cell_type": "code",
   "execution_count": 1,
   "metadata": {},
   "outputs": [
    {
     "name": "stdout",
     "output_type": "stream",
     "text": [
      "The Group of Eight ORG\n",
      "eight CARDINAL\n",
      "France GPE\n",
      "Germany GPE\n",
      "Italy GPE\n",
      "the United Kingdom GPE\n",
      "Japan GPE\n",
      "the United States GPE\n",
      "Canada GPE\n",
      "Russia GPE\n",
      "---------------------------------\n"
     ]
    },
    {
     "data": {
      "text/html": [
       "<div class=\"entities\" style=\"line-height: 2.5; direction: ltr\">\n",
       "<mark class=\"entity\" style=\"background: #7aecec; padding: 0.45em 0.6em; margin: 0 0.25em; line-height: 1; border-radius: 0.35em; box-decoration-break: clone; -webkit-box-decoration-break: clone\">\n",
       "    The Group of Eight\n",
       "    <span style=\"font-size: 0.8em; font-weight: bold; line-height: 1; border-radius: 0.35em; text-transform: uppercase; vertical-align: middle; margin-left: 0.5rem\">ORG</span>\n",
       "</mark>\n",
       " (G8) refers to the group of \n",
       "<mark class=\"entity\" style=\"background: #e4e7d2; padding: 0.45em 0.6em; margin: 0 0.25em; line-height: 1; border-radius: 0.35em; box-decoration-break: clone; -webkit-box-decoration-break: clone\">\n",
       "    eight\n",
       "    <span style=\"font-size: 0.8em; font-weight: bold; line-height: 1; border-radius: 0.35em; text-transform: uppercase; vertical-align: middle; margin-left: 0.5rem\">CARDINAL</span>\n",
       "</mark>\n",
       " highly industrialized nations—\n",
       "<mark class=\"entity\" style=\"background: #feca74; padding: 0.45em 0.6em; margin: 0 0.25em; line-height: 1; border-radius: 0.35em; box-decoration-break: clone; -webkit-box-decoration-break: clone\">\n",
       "    France\n",
       "    <span style=\"font-size: 0.8em; font-weight: bold; line-height: 1; border-radius: 0.35em; text-transform: uppercase; vertical-align: middle; margin-left: 0.5rem\">GPE</span>\n",
       "</mark>\n",
       ", \n",
       "<mark class=\"entity\" style=\"background: #feca74; padding: 0.45em 0.6em; margin: 0 0.25em; line-height: 1; border-radius: 0.35em; box-decoration-break: clone; -webkit-box-decoration-break: clone\">\n",
       "    Germany\n",
       "    <span style=\"font-size: 0.8em; font-weight: bold; line-height: 1; border-radius: 0.35em; text-transform: uppercase; vertical-align: middle; margin-left: 0.5rem\">GPE</span>\n",
       "</mark>\n",
       ", \n",
       "<mark class=\"entity\" style=\"background: #feca74; padding: 0.45em 0.6em; margin: 0 0.25em; line-height: 1; border-radius: 0.35em; box-decoration-break: clone; -webkit-box-decoration-break: clone\">\n",
       "    Italy\n",
       "    <span style=\"font-size: 0.8em; font-weight: bold; line-height: 1; border-radius: 0.35em; text-transform: uppercase; vertical-align: middle; margin-left: 0.5rem\">GPE</span>\n",
       "</mark>\n",
       ", \n",
       "<mark class=\"entity\" style=\"background: #feca74; padding: 0.45em 0.6em; margin: 0 0.25em; line-height: 1; border-radius: 0.35em; box-decoration-break: clone; -webkit-box-decoration-break: clone\">\n",
       "    the United Kingdom\n",
       "    <span style=\"font-size: 0.8em; font-weight: bold; line-height: 1; border-radius: 0.35em; text-transform: uppercase; vertical-align: middle; margin-left: 0.5rem\">GPE</span>\n",
       "</mark>\n",
       ", \n",
       "<mark class=\"entity\" style=\"background: #feca74; padding: 0.45em 0.6em; margin: 0 0.25em; line-height: 1; border-radius: 0.35em; box-decoration-break: clone; -webkit-box-decoration-break: clone\">\n",
       "    Japan\n",
       "    <span style=\"font-size: 0.8em; font-weight: bold; line-height: 1; border-radius: 0.35em; text-transform: uppercase; vertical-align: middle; margin-left: 0.5rem\">GPE</span>\n",
       "</mark>\n",
       ", \n",
       "<mark class=\"entity\" style=\"background: #feca74; padding: 0.45em 0.6em; margin: 0 0.25em; line-height: 1; border-radius: 0.35em; box-decoration-break: clone; -webkit-box-decoration-break: clone\">\n",
       "    the United States\n",
       "    <span style=\"font-size: 0.8em; font-weight: bold; line-height: 1; border-radius: 0.35em; text-transform: uppercase; vertical-align: middle; margin-left: 0.5rem\">GPE</span>\n",
       "</mark>\n",
       ", \n",
       "<mark class=\"entity\" style=\"background: #feca74; padding: 0.45em 0.6em; margin: 0 0.25em; line-height: 1; border-radius: 0.35em; box-decoration-break: clone; -webkit-box-decoration-break: clone\">\n",
       "    Canada\n",
       "    <span style=\"font-size: 0.8em; font-weight: bold; line-height: 1; border-radius: 0.35em; text-transform: uppercase; vertical-align: middle; margin-left: 0.5rem\">GPE</span>\n",
       "</mark>\n",
       ", and \n",
       "<mark class=\"entity\" style=\"background: #feca74; padding: 0.45em 0.6em; margin: 0 0.25em; line-height: 1; border-radius: 0.35em; box-decoration-break: clone; -webkit-box-decoration-break: clone\">\n",
       "    Russia\n",
       "    <span style=\"font-size: 0.8em; font-weight: bold; line-height: 1; border-radius: 0.35em; text-transform: uppercase; vertical-align: middle; margin-left: 0.5rem\">GPE</span>\n",
       "</mark>\n",
       "—that hold an annual meeting to foster consensus on global issues like economic growth and crisis management, global security, energy, and terrorism.</div>"
      ],
      "text/plain": [
       "<IPython.core.display.HTML object>"
      ]
     },
     "metadata": {},
     "output_type": "display_data"
    }
   ],
   "source": [
    "import spacy\n",
    "\n",
    "from spacy import displacy\n",
    "\n",
    "nlp = spacy.load('en_core_web_sm')\n",
    "\n",
    "doc = nlp(\"The Group of Eight (G8) refers to the group of eight highly industrialized nations—France, Germany, Italy, the United Kingdom, Japan, the United States, Canada, and Russia—that hold an annual meeting to foster consensus on global issues like economic growth and crisis management, global security, energy, and terrorism.\")\n",
    "\n",
    "for ent in doc.ents:\n",
    "    print(ent.text, ent.label_)\n",
    "\n",
    "print('---------------------------------')\n",
    "displacy.render(doc, style='ent', jupyter=True)"
   ]
  },
  {
   "cell_type": "markdown",
   "metadata": {},
   "source": [
    "### Why Customize spacy NER?\n",
    "\n",
    "This is really great but what if we want to use this for predicting our own custom defined NERs. \n",
    "\n",
    "> You'll write your own training from scratch\n",
    "\n",
    "Let say we are third party product sellers for large Corporation. We get thousands of notes from them if there are any products which we have to stop selling and/or start selling new part if any. Extracting this information from these notes is very tedious and manually time consuming. If we dont extract this information from the notes immediately, it is going to impact our business and also lose the confidence of our customers if we keep selling the products which we are not suppose to sell.\n",
    "\n",
    "### Steps to Create our own model and train it for predicting custom entities specific to my usecase:\n",
    "\n",
    "#### Step 1: Create the training data\n",
    "\n",
    "Training data should be created in the below mentioned format. \n",
    "\n",
    "\n",
    "> ( TEXT , { 'entities' : [(startindex,    endindex,       LABEL)]})\n",
    "\n",
    "\n",
    "- TEXT is the actual text which you want the model to predict the entities from.\n",
    "- 'entities' is the keyword\n",
    "- startindex is the starting index of the entity you want the model to predict the label for.\n",
    "- endindex is the starting index of the entity you want the model to predict the label for."
   ]
  },
  {
   "cell_type": "code",
   "execution_count": 2,
   "metadata": {},
   "outputs": [],
   "source": [
    "training_data = [('92898282 is discontinued', {'entities': [(0, 8, 'OLDVERSION')]}),\n",
    " ('87262727 is discontinued and 98782728 is introduced to replace it', {'entities': [(0, 8, 'OLDVERSION'), (29, 37, 'NEWVERSION')]}),\n",
    " ('Replaced by new version 89878292', {'entities': [(24, 32, 'NEWVERSION')]}),\n",
    " ('78272822 should be stopped selling and start selling 89782821', {'entities': [(0, 8, 'OLDVERSION'), (53, 61, 'NEWVERSION')]}),\n",
    " ('87827728 should be stopped selling immediately due to malfunctioning issues and start selling 98987872', {'entities': [(0, 8, 'OLDVERSION'), (94, 102, 'NEWVERSION')]}),\n",
    " ('Start selling 98989202', {'entities' : [(14, 22, \"NEWVERSION\")]}),\n",
    " ('Stop selling 87882922', {'entities' : [(14, 22, \"NEWVERSION\")]}),\n",
    " ('Stop using 87882922 and start selling 76798292', {'entities' : [(0, 22, \"OLDVERSION\"), (38, 47, 'NEWVERSION')]}),\n",
    " ('There is issue with 76767289, start selling replacing part 76798292', {'entities' : [(20, 28, \"OLDVERSION\"), (59, 67, 'NEWVERSION')]}),\n",
    " (\"97987893 is the new item which is replacing the problematic 98972389\", {'entities' : [(0, 8, \"NEWVERSION\"), (60, 68, 'OLDVERSION')]})] "
   ]
  },
  {
   "cell_type": "markdown",
   "metadata": {},
   "source": [
    "#### Step 2 : Create a blank English Model\n",
    "\n",
    "> spacy.blank - Create a blank model of a given language class.\n",
    "\n",
    "This creates a blank model for whatever language you want given it is supported by Spacy. Check out the documentation for more details."
   ]
  },
  {
   "cell_type": "code",
   "execution_count": 22,
   "metadata": {},
   "outputs": [],
   "source": [
    "# Create a blank 'en' model\n",
    "nlp = spacy.blank('en')"
   ]
  },
  {
   "cell_type": "markdown",
   "metadata": {},
   "source": [
    "#### Step 3: # Create a new entity recognizer and add it to the pipeline\n",
    "\n",
    "We want to add NER component into the blank model. Current there is nothing in the pipeline. So when we add NER into the pipeline thats all we need to solve our usecase."
   ]
  },
  {
   "cell_type": "code",
   "execution_count": 23,
   "metadata": {},
   "outputs": [
    {
     "name": "stdout",
     "output_type": "stream",
     "text": [
      "[]\n"
     ]
    }
   ],
   "source": [
    "print(nlp.pipe_names)"
   ]
  },
  {
   "cell_type": "code",
   "execution_count": 24,
   "metadata": {},
   "outputs": [],
   "source": [
    "ner = nlp.create_pipe('ner')\n",
    "nlp.add_pipe(ner)"
   ]
  },
  {
   "cell_type": "code",
   "execution_count": 25,
   "metadata": {},
   "outputs": [
    {
     "name": "stdout",
     "output_type": "stream",
     "text": [
      "['ner']\n"
     ]
    }
   ],
   "source": [
    "print(nlp.pipe_names)"
   ]
  },
  {
   "cell_type": "markdown",
   "metadata": {},
   "source": [
    "#### Step 4 : Add the Labels which you want the NER to predict\n",
    "\n",
    "Once we add the NER to pipeline, we need to tell what we want the NER to predict. We tell that by adding the labels to the model."
   ]
  },
  {
   "cell_type": "code",
   "execution_count": 5,
   "metadata": {},
   "outputs": [],
   "source": [
    "# Add the label 'GADGET' to the entity recognizer\n",
    "ner.add_label(\"OLDVERSION\")\n",
    "ner.add_label(\"NEWVERSION\")"
   ]
  },
  {
   "cell_type": "markdown",
   "metadata": {},
   "source": [
    "#### Step 5 : Train the model to predict the new customer entities  \n",
    "\n",
    "Now we have the model created, NER added to the pipeline and have told the model what labels we want the NER to predict.\n",
    "\n",
    "It is time now to train the model:\n",
    "\n",
    "- Start the training using begin_training\n",
    "- Iterate through the training dataset \n",
    "- Shuffle the dataset at every iteration\n",
    "- Update the model"
   ]
  },
  {
   "cell_type": "code",
   "execution_count": 7,
   "metadata": {},
   "outputs": [],
   "source": [
    "import random\n",
    "\n",
    "# Start the training\n",
    "nlp.begin_training()\n",
    "\n",
    "# Loop for 10 iterations\n",
    "for itn in range(10):\n",
    "    # Shuffle the training data\n",
    "    random.shuffle(training_data)\n",
    "\n",
    "    # Batch the examples and iterate over them\n",
    "    for batch in spacy.util.minibatch(training_data, size=2):\n",
    "        texts = [text for text, entities in batch]\n",
    "        annotations = [entities for text, entities in batch]\n",
    "        \n",
    "        # Update the model\n",
    "        nlp.update(texts, annotations) "
   ]
  },
  {
   "cell_type": "markdown",
   "metadata": {},
   "source": [
    "#### Step 6: Testing your model and visualizing the predictions\n",
    "\n",
    "Once we have the trained model, all we have to do is the testing. Check whether the model is performing well."
   ]
  },
  {
   "cell_type": "code",
   "execution_count": 15,
   "metadata": {},
   "outputs": [
    {
     "name": "stdout",
     "output_type": "stream",
     "text": [
      "87827728 should be stopped selling immediately due to malfunctioning issues and start selling 98987872\n"
     ]
    },
    {
     "data": {
      "text/html": [
       "<div class=\"entities\" style=\"line-height: 2.5; direction: ltr\">\n",
       "<mark class=\"entity\" style=\"background: #f5540f; padding: 0.45em 0.6em; margin: 0 0.25em; line-height: 1; border-radius: 0.35em; box-decoration-break: clone; -webkit-box-decoration-break: clone\">\n",
       "    87827728\n",
       "    <span style=\"font-size: 0.8em; font-weight: bold; line-height: 1; border-radius: 0.35em; text-transform: uppercase; vertical-align: middle; margin-left: 0.5rem\">OLDVERSION</span>\n",
       "</mark>\n",
       " should be stopped selling immediately due to malfunctioning issues and start selling \n",
       "<mark class=\"entity\" style=\"background: #089927; padding: 0.45em 0.6em; margin: 0 0.25em; line-height: 1; border-radius: 0.35em; box-decoration-break: clone; -webkit-box-decoration-break: clone\">\n",
       "    98987872\n",
       "    <span style=\"font-size: 0.8em; font-weight: bold; line-height: 1; border-radius: 0.35em; text-transform: uppercase; vertical-align: middle; margin-left: 0.5rem\">NEWVERSION</span>\n",
       "</mark>\n",
       "</div>"
      ],
      "text/plain": [
       "<IPython.core.display.HTML object>"
      ]
     },
     "metadata": {},
     "output_type": "display_data"
    },
    {
     "name": "stdout",
     "output_type": "stream",
     "text": [
      "87827728 OLDVERSION\n",
      "98987872 NEWVERSION\n",
      "------------------\n",
      "START SELLING 87987298\n"
     ]
    },
    {
     "data": {
      "text/html": [
       "<div class=\"entities\" style=\"line-height: 2.5; direction: ltr\">START SELLING \n",
       "<mark class=\"entity\" style=\"background: #089927; padding: 0.45em 0.6em; margin: 0 0.25em; line-height: 1; border-radius: 0.35em; box-decoration-break: clone; -webkit-box-decoration-break: clone\">\n",
       "    87987298\n",
       "    <span style=\"font-size: 0.8em; font-weight: bold; line-height: 1; border-radius: 0.35em; text-transform: uppercase; vertical-align: middle; margin-left: 0.5rem\">NEWVERSION</span>\n",
       "</mark>\n",
       "</div>"
      ],
      "text/plain": [
       "<IPython.core.display.HTML object>"
      ]
     },
     "metadata": {},
     "output_type": "display_data"
    },
    {
     "name": "stdout",
     "output_type": "stream",
     "text": [
      "87987298 NEWVERSION\n",
      "------------------\n",
      "97987893 is the new item which is replacing the 88798990\n"
     ]
    },
    {
     "data": {
      "text/html": [
       "<div class=\"entities\" style=\"line-height: 2.5; direction: ltr\">\n",
       "<mark class=\"entity\" style=\"background: #089927; padding: 0.45em 0.6em; margin: 0 0.25em; line-height: 1; border-radius: 0.35em; box-decoration-break: clone; -webkit-box-decoration-break: clone\">\n",
       "    97987893\n",
       "    <span style=\"font-size: 0.8em; font-weight: bold; line-height: 1; border-radius: 0.35em; text-transform: uppercase; vertical-align: middle; margin-left: 0.5rem\">NEWVERSION</span>\n",
       "</mark>\n",
       " is the new item which is replacing the \n",
       "<mark class=\"entity\" style=\"background: #f5540f; padding: 0.45em 0.6em; margin: 0 0.25em; line-height: 1; border-radius: 0.35em; box-decoration-break: clone; -webkit-box-decoration-break: clone\">\n",
       "    88798990\n",
       "    <span style=\"font-size: 0.8em; font-weight: bold; line-height: 1; border-radius: 0.35em; text-transform: uppercase; vertical-align: middle; margin-left: 0.5rem\">OLDVERSION</span>\n",
       "</mark>\n",
       "</div>"
      ],
      "text/plain": [
       "<IPython.core.display.HTML object>"
      ]
     },
     "metadata": {},
     "output_type": "display_data"
    },
    {
     "name": "stdout",
     "output_type": "stream",
     "text": [
      "97987893 NEWVERSION\n",
      "88798990 OLDVERSION\n",
      "------------------\n"
     ]
    }
   ],
   "source": [
    "testing_data = ['87827728 should be stopped selling immediately due to malfunctioning issues and start selling 98987872',\n",
    "             \"START SELLING 87987298\",\n",
    "             \"97987893 is the new item which is replacing the 88798990\"]\n",
    "\n",
    "# Processing each text in testing data\n",
    "for doc in nlp.pipe(testing_data):\n",
    "    print(doc.text)\n",
    "    displacy.render(doc, style='ent', jupyter = 'True', options={'colors' : {'OLDVERSION' : \"#f5540f\" , \"NEWVERSION\" : '#089927'}})\n",
    "    for ent in doc.ents:\n",
    "        print(ent.text, ent.label_)\n",
    "    print('------------------')"
   ]
  },
  {
   "cell_type": "markdown",
   "metadata": {},
   "source": [
    "We just saw how easy and simple it is to build your own model and customizing it. \n",
    "\n",
    "\n",
    "Any machine learning model is just as good as the data you provide to it to learn. If the data is not good enough, model will not be intelligent. The only way to make it more intelligent is giving it more data not of the same kind but of various kinds covering all the scenarios. "
   ]
  }
 ],
 "metadata": {
  "kernelspec": {
   "display_name": "Python 3",
   "language": "python",
   "name": "python3"
  },
  "language_info": {
   "codemirror_mode": {
    "name": "ipython",
    "version": 3
   },
   "file_extension": ".py",
   "mimetype": "text/x-python",
   "name": "python",
   "nbconvert_exporter": "python",
   "pygments_lexer": "ipython3",
   "version": "3.7.3"
  }
 },
 "nbformat": 4,
 "nbformat_minor": 2
}
